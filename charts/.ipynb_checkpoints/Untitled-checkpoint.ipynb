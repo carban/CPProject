{
 "cells": [
  {
   "cell_type": "code",
   "execution_count": 9,
   "metadata": {},
   "outputs": [],
   "source": [
    "minizinc = \"/../home/carban/PortableApps/MiniZincIDE-2.3.2-bundle-linux/bin/minizinc\"\n",
    "solver = \"Chuffed\"\n",
    "model = \"/home/carban/Documents/ConstraintProgramming/CPProject/model1.mzn\"\n",
    "model12 = \"/home/carban/Documents/ConstraintProgramming/CPProject/model2.mzn\"\n",
    "DZN = \"/home/carban/Documents/ConstraintProgramming/CPProject/Datos2/\""
   ]
  },
  {
   "cell_type": "code",
   "execution_count": 21,
   "metadata": {},
   "outputs": [
    {
     "name": "stdout",
     "output_type": "stream",
     "text": [
      "[5, 1, 6, 2, 4, 3]\n",
      "330\n",
      "----------\n",
      "==========\n",
      "0.10user 0.01system 0:00.12elapsed 99%CPU (0avgtext+0avgdata 16416maxresident)k\n",
      "0inputs+104outputs (0major+5241minor)pagefaults 0swaps\n",
      "[7, 2, 3, 4, 6, 1, 5]\n",
      "390\n",
      "----------\n",
      "==========\n",
      "0.12user 0.01system 0:00.14elapsed 99%CPU (0avgtext+0avgdata 16780maxresident)k\n",
      "0inputs+120outputs (0major+5466minor)pagefaults 0swaps\n",
      "[5, 1, 6, 3, 4, 2, 7]\n",
      "415\n",
      "----------\n",
      "==========\n",
      "0.14user 0.02system 0:00.16elapsed 99%CPU (0avgtext+0avgdata 17584maxresident)k\n",
      "0inputs+152outputs (0major+5868minor)pagefaults 0swaps\n"
     ]
    }
   ],
   "source": [
    "for i in range(1,4):\n",
    "    !time \"{minizinc}\" --solver \"{solver}\" \"{model}\" \"{DZN}Med1-{i}.dzn\""
   ]
  },
  {
   "cell_type": "code",
   "execution_count": 55,
   "metadata": {},
   "outputs": [],
   "source": [
    "m1_t = 0.154\n",
    "m1_med1 = 0.148\n",
    "m1_med2 = 0.170\n",
    "m1_med3 = 0.190\n",
    "m1_med4 = 0.220"
   ]
  },
  {
   "cell_type": "code",
   "execution_count": 84,
   "metadata": {},
   "outputs": [
    {
     "data": {
      "text/plain": [
       "[]"
      ]
     },
     "execution_count": 84,
     "metadata": {},
     "output_type": "execute_result"
    },
    {
     "data": {
      "image/png": "[encoded data removed]",
      "text/plain": [
       "<Figure size 432x288 with 1 Axes>"
      ]
     },
     "metadata": {
      "needs_background": "light"
     },
     "output_type": "display_data"
    }
   ],
   "source": [
    "import numpy as np\n",
    "import matplotlib.pyplot as plt\n",
    "\n",
    "plt.title(\"holi\")\n",
    "instancias = [\"Trivial1\", \"Med1-1\", \"Med1-2\", \"Med1-3\", \"Med1-4\"]\n",
    "tiempos = np.array([m1_t, m1_med1, m1_med2, m1_med3, m1_med4])\n",
    "plt.ylabel('Time')\n",
    "plt.bar(instancias, tiempos, tick_label=tiempos, align=\"center\")\n",
    "\n",
    "plt.plot()"
   ]
  },
  {
   "cell_type": "code",
   "execution_count": 78,
   "metadata": {},
   "outputs": [
    {
     "data": {
      "image/png": "[encoded data removed]",
      "text/plain": [
       "<Figure size 432x288 with 1 Axes>"
      ]
     },
     "metadata": {
      "needs_background": "light"
     },
     "output_type": "display_data"
    }
   ],
   "source": [
    "data = [[5., 25., 50., 20.],\n",
    "  [4., 23., 51., 17.],\n",
    "  [6., 22., 52., 19.]]\n",
    "\n",
    "X = np.arange(4)\n",
    "plt.bar(X + 0.00, data[0], color = 'b', width = 0.25)\n",
    "plt.bar(X + 0.25, data[1], color = 'g', width = 0.25)\n",
    "plt.bar(X + 0.50, data[2], color = 'r', width = 0.25)\n",
    "\n",
    "plt.show()"
   ]
  },
  {
   "cell_type": "code",
   "execution_count": null,
   "metadata": {},
   "outputs": [],
   "source": []
  },
  {
   "cell_type": "code",
   "execution_count": null,
   "metadata": {},
   "outputs": [],
   "source": []
  }
 ],
 "metadata": {
  "kernelspec": {
   "display_name": "Python 3",
   "language": "python",
   "name": "python3"
  },
  "language_info": {
   "codemirror_mode": {
    "name": "ipython",
    "version": 2
   },
   "file_extension": ".py",
   "mimetype": "text/x-python",
   "name": "python",
   "nbconvert_exporter": "python",
   "pygments_lexer": "ipython2",
   "version": "2.7.17"
  }
 },
 "nbformat": 4,
 "nbformat_minor": 2
}
